{
  "cells": [
    {
      "cell_type": "markdown",
      "id": "f94e65c6",
      "metadata": {
        "id": "f94e65c6"
      },
      "source": [
        "Import the required libraries"
      ]
    },
    {
      "cell_type": "code",
      "source": [
        "# Install dependencies\n",
        "# Feel free to add any other in case you cannot import it\n",
        "\n",
        "!pip install torch\n",
        "!pip install torch_geometric"
      ],
      "metadata": {
        "colab": {
          "base_uri": "https://localhost:8080/"
        },
        "id": "rE_61sATPxnG",
        "outputId": "278c26d9-e219-4d68-986c-94f48838bb24"
      },
      "id": "rE_61sATPxnG",
      "execution_count": 2,
      "outputs": [
        {
          "output_type": "stream",
          "name": "stdout",
          "text": [
            "Requirement already satisfied: torch in /usr/local/lib/python3.10/dist-packages (2.0.1+cu118)\n",
            "Requirement already satisfied: filelock in /usr/local/lib/python3.10/dist-packages (from torch) (3.12.2)\n",
            "Requirement already satisfied: typing-extensions in /usr/local/lib/python3.10/dist-packages (from torch) (4.6.3)\n",
            "Requirement already satisfied: sympy in /usr/local/lib/python3.10/dist-packages (from torch) (1.11.1)\n",
            "Requirement already satisfied: networkx in /usr/local/lib/python3.10/dist-packages (from torch) (3.1)\n",
            "Requirement already satisfied: jinja2 in /usr/local/lib/python3.10/dist-packages (from torch) (3.1.2)\n",
            "Requirement already satisfied: triton==2.0.0 in /usr/local/lib/python3.10/dist-packages (from torch) (2.0.0)\n",
            "Requirement already satisfied: cmake in /usr/local/lib/python3.10/dist-packages (from triton==2.0.0->torch) (3.25.2)\n",
            "Requirement already satisfied: lit in /usr/local/lib/python3.10/dist-packages (from triton==2.0.0->torch) (16.0.6)\n",
            "Requirement already satisfied: MarkupSafe>=2.0 in /usr/local/lib/python3.10/dist-packages (from jinja2->torch) (2.1.3)\n",
            "Requirement already satisfied: mpmath>=0.19 in /usr/local/lib/python3.10/dist-packages (from sympy->torch) (1.3.0)\n",
            "Collecting torch_geometric\n",
            "  Downloading torch_geometric-2.3.1.tar.gz (661 kB)\n",
            "\u001b[2K     \u001b[90m━━━━━━━━━━━━━━━━━━━━━━━━━━━━━━━━━━━━━━\u001b[0m \u001b[32m661.6/661.6 kB\u001b[0m \u001b[31m23.5 MB/s\u001b[0m eta \u001b[36m0:00:00\u001b[0m\n",
            "\u001b[?25h  Installing build dependencies ... \u001b[?25l\u001b[?25hdone\n",
            "  Getting requirements to build wheel ... \u001b[?25l\u001b[?25hdone\n",
            "  Preparing metadata (pyproject.toml) ... \u001b[?25l\u001b[?25hdone\n",
            "Requirement already satisfied: tqdm in /usr/local/lib/python3.10/dist-packages (from torch_geometric) (4.65.0)\n",
            "Requirement already satisfied: numpy in /usr/local/lib/python3.10/dist-packages (from torch_geometric) (1.22.4)\n",
            "Requirement already satisfied: scipy in /usr/local/lib/python3.10/dist-packages (from torch_geometric) (1.10.1)\n",
            "Requirement already satisfied: jinja2 in /usr/local/lib/python3.10/dist-packages (from torch_geometric) (3.1.2)\n",
            "Requirement already satisfied: requests in /usr/local/lib/python3.10/dist-packages (from torch_geometric) (2.27.1)\n",
            "Requirement already satisfied: pyparsing in /usr/local/lib/python3.10/dist-packages (from torch_geometric) (3.1.0)\n",
            "Requirement already satisfied: scikit-learn in /usr/local/lib/python3.10/dist-packages (from torch_geometric) (1.2.2)\n",
            "Requirement already satisfied: psutil>=5.8.0 in /usr/local/lib/python3.10/dist-packages (from torch_geometric) (5.9.5)\n",
            "Requirement already satisfied: MarkupSafe>=2.0 in /usr/local/lib/python3.10/dist-packages (from jinja2->torch_geometric) (2.1.3)\n",
            "Requirement already satisfied: urllib3<1.27,>=1.21.1 in /usr/local/lib/python3.10/dist-packages (from requests->torch_geometric) (1.26.16)\n",
            "Requirement already satisfied: certifi>=2017.4.17 in /usr/local/lib/python3.10/dist-packages (from requests->torch_geometric) (2023.5.7)\n",
            "Requirement already satisfied: charset-normalizer~=2.0.0 in /usr/local/lib/python3.10/dist-packages (from requests->torch_geometric) (2.0.12)\n",
            "Requirement already satisfied: idna<4,>=2.5 in /usr/local/lib/python3.10/dist-packages (from requests->torch_geometric) (3.4)\n",
            "Requirement already satisfied: joblib>=1.1.1 in /usr/local/lib/python3.10/dist-packages (from scikit-learn->torch_geometric) (1.2.0)\n",
            "Requirement already satisfied: threadpoolctl>=2.0.0 in /usr/local/lib/python3.10/dist-packages (from scikit-learn->torch_geometric) (3.1.0)\n",
            "Building wheels for collected packages: torch_geometric\n",
            "  Building wheel for torch_geometric (pyproject.toml) ... \u001b[?25l\u001b[?25hdone\n",
            "  Created wheel for torch_geometric: filename=torch_geometric-2.3.1-py3-none-any.whl size=910459 sha256=8549af23827cd1a73ae0ad38d7abd4fd937053ebe011e9378c375aae445a33c7\n",
            "  Stored in directory: /root/.cache/pip/wheels/ac/dc/30/e2874821ff308ee67dcd7a66dbde912411e19e35a1addda028\n",
            "Successfully built torch_geometric\n",
            "Installing collected packages: torch_geometric\n",
            "Successfully installed torch_geometric-2.3.1\n"
          ]
        }
      ]
    },
    {
      "cell_type": "code",
      "execution_count": 3,
      "id": "33a17f17",
      "metadata": {
        "colab": {
          "base_uri": "https://localhost:8080/"
        },
        "id": "33a17f17",
        "outputId": "19f37483-1944-4702-fdd4-9a62017334ad"
      },
      "outputs": [
        {
          "output_type": "execute_result",
          "data": {
            "text/plain": [
              "<torch._C.Generator at 0x7f4d8a958ed0>"
            ]
          },
          "metadata": {},
          "execution_count": 3
        }
      ],
      "source": [
        "# Data\n",
        "\n",
        "import numpy as np\n",
        "from sklearn.datasets        import load_iris, make_moons\n",
        "from sklearn.model_selection import train_test_split\n",
        "\n",
        "# Visualization\n",
        "\n",
        "import seaborn           as sns\n",
        "import matplotlib.pyplot as plt\n",
        "\n",
        "# ML model\n",
        "\n",
        "import torch\n",
        "import torch.nn            as nn\n",
        "import torch.optim         as optim\n",
        "import torch.nn.functional as F\n",
        "\n",
        "from torch_geometric.data   import Data\n",
        "from torch_geometric.loader import DataLoader\n",
        "from torch_geometric.nn     import MessagePassing\n",
        "from torch_geometric.utils  import add_self_loops, degree\n",
        "from torch.utils.data       import random_split\n",
        "from torch.nn               import Linear\n",
        "from torch_geometric.nn     import GraphConv\n",
        "from torch_geometric.nn     import global_mean_pool\n",
        "\n",
        "# External library\n",
        "import ML_library as ML\n",
        "\n",
        "# Set seaborn environmet (for plotting)\n",
        "sns.set_theme()\n",
        "\n",
        "# Set random seed for reproducibility\n",
        "torch.manual_seed(12345)"
      ]
    },
    {
      "cell_type": "markdown",
      "id": "534e8c88",
      "metadata": {
        "id": "534e8c88"
      },
      "source": [
        "# Neural Network:\n",
        "### Iris dataset"
      ]
    },
    {
      "cell_type": "markdown",
      "id": "4829cef7",
      "metadata": {
        "id": "4829cef7"
      },
      "source": [
        "Basic neural network parameters"
      ]
    },
    {
      "cell_type": "code",
      "execution_count": 4,
      "id": "fd418b99",
      "metadata": {
        "id": "fd418b99"
      },
      "outputs": [],
      "source": [
        "num_epochs    = 50\n",
        "batch_size    = 16\n",
        "learning_rate = 0.01"
      ]
    },
    {
      "cell_type": "markdown",
      "id": "c2a55473",
      "metadata": {
        "id": "c2a55473"
      },
      "source": [
        "Load the Iris dataset"
      ]
    },
    {
      "cell_type": "code",
      "execution_count": 5,
      "id": "cbbf78d4",
      "metadata": {
        "id": "cbbf78d4"
      },
      "outputs": [],
      "source": [
        "iris     = load_iris()\n",
        "features = iris.data\n",
        "labels   = iris.target"
      ]
    },
    {
      "cell_type": "code",
      "source": [
        "import pandas as pd\n",
        "\n",
        "df_iris = pd.DataFrame(data= np.c_[iris['data'], iris['target']],\n",
        "                       columns= iris['feature_names'] + ['target'])\n",
        "df_iris.head()"
      ],
      "metadata": {
        "colab": {
          "base_uri": "https://localhost:8080/",
          "height": 206
        },
        "id": "xBHO9ncISsEj",
        "outputId": "2649856c-f849-41d4-ddec-623ded3a4619"
      },
      "id": "xBHO9ncISsEj",
      "execution_count": 6,
      "outputs": [
        {
          "output_type": "execute_result",
          "data": {
            "text/plain": [
              "   sepal length (cm)  sepal width (cm)  petal length (cm)  petal width (cm)  \\\n",
              "0                5.1               3.5                1.4               0.2   \n",
              "1                4.9               3.0                1.4               0.2   \n",
              "2                4.7               3.2                1.3               0.2   \n",
              "3                4.6               3.1                1.5               0.2   \n",
              "4                5.0               3.6                1.4               0.2   \n",
              "\n",
              "   target  \n",
              "0     0.0  \n",
              "1     0.0  \n",
              "2     0.0  \n",
              "3     0.0  \n",
              "4     0.0  "
            ],
            "text/html": [
              "\n",
              "  <div id=\"df-f7c86565-9128-43e1-9d21-a6c9c8907697\">\n",
              "    <div class=\"colab-df-container\">\n",
              "      <div>\n",
              "<style scoped>\n",
              "    .dataframe tbody tr th:only-of-type {\n",
              "        vertical-align: middle;\n",
              "    }\n",
              "\n",
              "    .dataframe tbody tr th {\n",
              "        vertical-align: top;\n",
              "    }\n",
              "\n",
              "    .dataframe thead th {\n",
              "        text-align: right;\n",
              "    }\n",
              "</style>\n",
              "<table border=\"1\" class=\"dataframe\">\n",
              "  <thead>\n",
              "    <tr style=\"text-align: right;\">\n",
              "      <th></th>\n",
              "      <th>sepal length (cm)</th>\n",
              "      <th>sepal width (cm)</th>\n",
              "      <th>petal length (cm)</th>\n",
              "      <th>petal width (cm)</th>\n",
              "      <th>target</th>\n",
              "    </tr>\n",
              "  </thead>\n",
              "  <tbody>\n",
              "    <tr>\n",
              "      <th>0</th>\n",
              "      <td>5.1</td>\n",
              "      <td>3.5</td>\n",
              "      <td>1.4</td>\n",
              "      <td>0.2</td>\n",
              "      <td>0.0</td>\n",
              "    </tr>\n",
              "    <tr>\n",
              "      <th>1</th>\n",
              "      <td>4.9</td>\n",
              "      <td>3.0</td>\n",
              "      <td>1.4</td>\n",
              "      <td>0.2</td>\n",
              "      <td>0.0</td>\n",
              "    </tr>\n",
              "    <tr>\n",
              "      <th>2</th>\n",
              "      <td>4.7</td>\n",
              "      <td>3.2</td>\n",
              "      <td>1.3</td>\n",
              "      <td>0.2</td>\n",
              "      <td>0.0</td>\n",
              "    </tr>\n",
              "    <tr>\n",
              "      <th>3</th>\n",
              "      <td>4.6</td>\n",
              "      <td>3.1</td>\n",
              "      <td>1.5</td>\n",
              "      <td>0.2</td>\n",
              "      <td>0.0</td>\n",
              "    </tr>\n",
              "    <tr>\n",
              "      <th>4</th>\n",
              "      <td>5.0</td>\n",
              "      <td>3.6</td>\n",
              "      <td>1.4</td>\n",
              "      <td>0.2</td>\n",
              "      <td>0.0</td>\n",
              "    </tr>\n",
              "  </tbody>\n",
              "</table>\n",
              "</div>\n",
              "      <button class=\"colab-df-convert\" onclick=\"convertToInteractive('df-f7c86565-9128-43e1-9d21-a6c9c8907697')\"\n",
              "              title=\"Convert this dataframe to an interactive table.\"\n",
              "              style=\"display:none;\">\n",
              "        \n",
              "  <svg xmlns=\"http://www.w3.org/2000/svg\" height=\"24px\"viewBox=\"0 0 24 24\"\n",
              "       width=\"24px\">\n",
              "    <path d=\"M0 0h24v24H0V0z\" fill=\"none\"/>\n",
              "    <path d=\"M18.56 5.44l.94 2.06.94-2.06 2.06-.94-2.06-.94-.94-2.06-.94 2.06-2.06.94zm-11 1L8.5 8.5l.94-2.06 2.06-.94-2.06-.94L8.5 2.5l-.94 2.06-2.06.94zm10 10l.94 2.06.94-2.06 2.06-.94-2.06-.94-.94-2.06-.94 2.06-2.06.94z\"/><path d=\"M17.41 7.96l-1.37-1.37c-.4-.4-.92-.59-1.43-.59-.52 0-1.04.2-1.43.59L10.3 9.45l-7.72 7.72c-.78.78-.78 2.05 0 2.83L4 21.41c.39.39.9.59 1.41.59.51 0 1.02-.2 1.41-.59l7.78-7.78 2.81-2.81c.8-.78.8-2.07 0-2.86zM5.41 20L4 18.59l7.72-7.72 1.47 1.35L5.41 20z\"/>\n",
              "  </svg>\n",
              "      </button>\n",
              "      \n",
              "  <style>\n",
              "    .colab-df-container {\n",
              "      display:flex;\n",
              "      flex-wrap:wrap;\n",
              "      gap: 12px;\n",
              "    }\n",
              "\n",
              "    .colab-df-convert {\n",
              "      background-color: #E8F0FE;\n",
              "      border: none;\n",
              "      border-radius: 50%;\n",
              "      cursor: pointer;\n",
              "      display: none;\n",
              "      fill: #1967D2;\n",
              "      height: 32px;\n",
              "      padding: 0 0 0 0;\n",
              "      width: 32px;\n",
              "    }\n",
              "\n",
              "    .colab-df-convert:hover {\n",
              "      background-color: #E2EBFA;\n",
              "      box-shadow: 0px 1px 2px rgba(60, 64, 67, 0.3), 0px 1px 3px 1px rgba(60, 64, 67, 0.15);\n",
              "      fill: #174EA6;\n",
              "    }\n",
              "\n",
              "    [theme=dark] .colab-df-convert {\n",
              "      background-color: #3B4455;\n",
              "      fill: #D2E3FC;\n",
              "    }\n",
              "\n",
              "    [theme=dark] .colab-df-convert:hover {\n",
              "      background-color: #434B5C;\n",
              "      box-shadow: 0px 1px 3px 1px rgba(0, 0, 0, 0.15);\n",
              "      filter: drop-shadow(0px 1px 2px rgba(0, 0, 0, 0.3));\n",
              "      fill: #FFFFFF;\n",
              "    }\n",
              "  </style>\n",
              "\n",
              "      <script>\n",
              "        const buttonEl =\n",
              "          document.querySelector('#df-f7c86565-9128-43e1-9d21-a6c9c8907697 button.colab-df-convert');\n",
              "        buttonEl.style.display =\n",
              "          google.colab.kernel.accessAllowed ? 'block' : 'none';\n",
              "\n",
              "        async function convertToInteractive(key) {\n",
              "          const element = document.querySelector('#df-f7c86565-9128-43e1-9d21-a6c9c8907697');\n",
              "          const dataTable =\n",
              "            await google.colab.kernel.invokeFunction('convertToInteractive',\n",
              "                                                     [key], {});\n",
              "          if (!dataTable) return;\n",
              "\n",
              "          const docLinkHtml = 'Like what you see? Visit the ' +\n",
              "            '<a target=\"_blank\" href=https://colab.research.google.com/notebooks/data_table.ipynb>data table notebook</a>'\n",
              "            + ' to learn more about interactive tables.';\n",
              "          element.innerHTML = '';\n",
              "          dataTable['output_type'] = 'display_data';\n",
              "          await google.colab.output.renderOutput(dataTable, element);\n",
              "          const docLink = document.createElement('div');\n",
              "          docLink.innerHTML = docLinkHtml;\n",
              "          element.appendChild(docLink);\n",
              "        }\n",
              "      </script>\n",
              "    </div>\n",
              "  </div>\n",
              "  "
            ]
          },
          "metadata": {},
          "execution_count": 6
        }
      ]
    },
    {
      "cell_type": "markdown",
      "id": "92d98f3a",
      "metadata": {
        "id": "92d98f3a"
      },
      "source": [
        "Split the dataset into training and testing sets"
      ]
    },
    {
      "cell_type": "code",
      "execution_count": 7,
      "id": "241fa5ca",
      "metadata": {
        "id": "241fa5ca"
      },
      "outputs": [],
      "source": [
        "X_train, X_test, y_train, y_test = train_test_split(features, labels, test_size=0.2, random_state=42)"
      ]
    },
    {
      "cell_type": "markdown",
      "id": "b4e1f61b",
      "metadata": {
        "id": "b4e1f61b"
      },
      "source": [
        "Convert the data to PyTorch tensors"
      ]
    },
    {
      "cell_type": "code",
      "execution_count": 8,
      "id": "fed13b96",
      "metadata": {
        "id": "fed13b96"
      },
      "outputs": [],
      "source": [
        "X_train = torch.Tensor(X_train)\n",
        "X_test  = torch.Tensor(X_test)\n",
        "y_train = torch.LongTensor(y_train)\n",
        "y_test  = torch.LongTensor(y_test)"
      ]
    },
    {
      "cell_type": "markdown",
      "id": "3b7b584a",
      "metadata": {
        "id": "3b7b584a"
      },
      "source": [
        "Visualize the data"
      ]
    },
    {
      "cell_type": "code",
      "execution_count": 9,
      "id": "809cbc71",
      "metadata": {
        "id": "809cbc71",
        "outputId": "ba04481b-a258-43ff-debf-4cc810ebb7ef",
        "colab": {
          "base_uri": "https://localhost:8080/",
          "height": 461
        }
      },
      "outputs": [
        {
          "output_type": "display_data",
          "data": {
            "text/plain": [
              "<Figure size 640x480 with 1 Axes>"
            ],
            "image/png": "[encoded data removed]"
          },
          "metadata": {}
        }
      ],
      "source": [
        "plt.scatter(X_train[:, 0], X_train[:, 1], c=y_train)\n",
        "plt.xlabel('Sepal length')\n",
        "plt.ylabel('Sepal width')\n",
        "plt.show()"
      ]
    },
    {
      "cell_type": "markdown",
      "id": "7ec9d514",
      "metadata": {
        "id": "7ec9d514"
      },
      "source": [
        "Define the neural network architecture"
      ]
    },
    {
      "cell_type": "code",
      "execution_count": 10,
      "id": "690bf32d",
      "metadata": {
        "id": "690bf32d"
      },
      "outputs": [],
      "source": [
        "class NeuralNetwork(nn.Module):\n",
        "    \"\"\"Dense Neural Network with one hidden layer, with RELU activation function.\n",
        "    \"\"\"\n",
        "\n",
        "    def __init__(self):\n",
        "        super(NeuralNetwork, self).__init__()\n",
        "        self.fc1 = nn.Linear(4,  10)  # Fully connected layer 1\n",
        "        self.fc2 = nn.Linear(10, 10)  # Fully connected layer 2\n",
        "        self.fc3 = nn.Linear(10,  3)  # Output layer with 3 classes\n",
        "\n",
        "    def forward(self, x):\n",
        "        x = torch.relu(self.fc1(x))  # Apply ReLU activation to fc1\n",
        "        x = torch.relu(self.fc2(x))  # Apply ReLU activation to fc2\n",
        "        x = self.fc3(x)  # Output layer does not have an activation function\n",
        "        return x"
      ]
    },
    {
      "cell_type": "markdown",
      "id": "88a91b0d",
      "metadata": {
        "id": "88a91b0d"
      },
      "source": [
        "Create an instance of the neural network"
      ]
    },
    {
      "cell_type": "code",
      "execution_count": 11,
      "id": "410e6edb",
      "metadata": {
        "id": "410e6edb",
        "outputId": "725bb2bc-bd0d-4bc9-e32e-8381734fd186",
        "colab": {
          "base_uri": "https://localhost:8080/"
        }
      },
      "outputs": [
        {
          "output_type": "stream",
          "name": "stdout",
          "text": [
            "NeuralNetwork(\n",
            "  (fc1): Linear(in_features=4, out_features=10, bias=True)\n",
            "  (fc2): Linear(in_features=10, out_features=10, bias=True)\n",
            "  (fc3): Linear(in_features=10, out_features=3, bias=True)\n",
            ")\n"
          ]
        }
      ],
      "source": [
        "model = NeuralNetwork()\n",
        "print(model)"
      ]
    },
    {
      "cell_type": "markdown",
      "id": "4875b1d4",
      "metadata": {
        "id": "4875b1d4"
      },
      "source": [
        "Define the loss function and optimizer"
      ]
    },
    {
      "cell_type": "code",
      "execution_count": 12,
      "id": "bd32acb9",
      "metadata": {
        "id": "bd32acb9"
      },
      "outputs": [],
      "source": [
        "criterion = nn.CrossEntropyLoss()\n",
        "optimizer = optim.SGD(model.parameters(), lr=learning_rate)"
      ]
    },
    {
      "cell_type": "markdown",
      "id": "c9f8db5b",
      "metadata": {
        "id": "c9f8db5b"
      },
      "source": [
        "Training the neural network"
      ]
    },
    {
      "cell_type": "code",
      "execution_count": 13,
      "id": "23a6953d",
      "metadata": {
        "id": "23a6953d",
        "outputId": "e320a98e-e376-4f51-ac2d-a7cdccf55965",
        "colab": {
          "base_uri": "https://localhost:8080/"
        }
      },
      "outputs": [
        {
          "output_type": "stream",
          "name": "stdout",
          "text": [
            "Epoch: 10/50, Loss: 0.999774158000946\n",
            "Epoch: 20/50, Loss: 0.9341937303543091\n",
            "Epoch: 30/50, Loss: 0.7933416366577148\n",
            "Epoch: 40/50, Loss: 0.6244001388549805\n",
            "Epoch: 50/50, Loss: 0.5001124143600464\n"
          ]
        }
      ],
      "source": [
        "losses = []\n",
        "for epoch in range(num_epochs):\n",
        "    for i in range(0, len(X_train), batch_size):\n",
        "        inputs  = X_train[i:i+batch_size]\n",
        "        targets = y_train[i:i+batch_size]\n",
        "\n",
        "        # Forward pass\n",
        "        outputs = model(inputs)\n",
        "        loss = criterion(outputs, targets)\n",
        "\n",
        "        # Backward and optimize\n",
        "        optimizer.zero_grad()\n",
        "        loss.backward()\n",
        "        optimizer.step()\n",
        "\n",
        "    if (epoch+1) % 10 == 0:\n",
        "        print(f\"Epoch: {epoch+1}/{num_epochs}, Loss: {loss.item()}\")\n",
        "    losses.append(loss.item())"
      ]
    },
    {
      "cell_type": "markdown",
      "id": "d03e3921",
      "metadata": {
        "id": "d03e3921"
      },
      "source": [
        "Plot the loss curve"
      ]
    },
    {
      "cell_type": "code",
      "execution_count": 14,
      "id": "326a78d3",
      "metadata": {
        "id": "326a78d3",
        "outputId": "1005105b-3054-44db-8c93-7eefe1736dc8",
        "colab": {
          "base_uri": "https://localhost:8080/",
          "height": 458
        }
      },
      "outputs": [
        {
          "output_type": "display_data",
          "data": {
            "text/plain": [
              "<Figure size 640x480 with 1 Axes>"
            ],
            "image/png": "[encoded data removed]"
          },
          "metadata": {}
        }
      ],
      "source": [
        "plt.plot(losses, label='Train loss')\n",
        "plt.ylim(bottom=0)\n",
        "plt.xlabel('Epoch')\n",
        "plt.ylabel('Loss')\n",
        "plt.legend(loc='best')\n",
        "plt.show()"
      ]
    },
    {
      "cell_type": "markdown",
      "id": "a13f69d5",
      "metadata": {
        "id": "a13f69d5"
      },
      "source": [
        "Evaluating the model"
      ]
    },
    {
      "cell_type": "code",
      "execution_count": 15,
      "id": "b681b867",
      "metadata": {
        "id": "b681b867",
        "outputId": "9fa93851-88e9-4d45-843e-ef0c002fd99b",
        "colab": {
          "base_uri": "https://localhost:8080/"
        }
      },
      "outputs": [
        {
          "output_type": "stream",
          "name": "stdout",
          "text": [
            "Accuracy on test set: 0.8\n"
          ]
        }
      ],
      "source": [
        "with torch.no_grad():\n",
        "    outputs = model(X_test)\n",
        "    _, predicted = torch.max(outputs.data, 1)\n",
        "    accuracy = (predicted == y_test).sum().item() / len(y_test)\n",
        "    print(f'Accuracy on test set: {accuracy}')"
      ]
    },
    {
      "cell_type": "markdown",
      "source": [
        "Alternative ML methods to NN"
      ],
      "metadata": {
        "id": "uPVlr_UHVlZ1"
      },
      "id": "uPVlr_UHVlZ1"
    },
    {
      "cell_type": "code",
      "source": [
        "# Decision Tree Classifier\n",
        "\n",
        "from sklearn.tree import DecisionTreeClassifier\n",
        "\n",
        "randtree_model = DecisionTreeClassifier()\n",
        "randtree_model.fit(X_train, y_train)\n",
        "predictions_randtree = randtree_model.predict(X_test)\n",
        "\n",
        "\n",
        "# Random Forest\n",
        "\n",
        "from sklearn.ensemble import RandomForestClassifier\n",
        "\n",
        "randforest_model = RandomForestClassifier(n_estimators=100)\n",
        "randforest_model.fit(X_train, y_train)\n",
        "predictions_randforest = randforest_model.predict(X_test)\n",
        "\n",
        "\n",
        "# K-Nearest Neighbors\n",
        "\n",
        "from sklearn.neighbors import KNeighborsClassifier\n",
        "\n",
        "n_labels = 3\n",
        "knn_model = KNeighborsClassifier(n_neighbors=n_labels)\n",
        "knn_model.fit(X_train, y_train)\n",
        "predictions_knn = knn_model.predict(X_test)"
      ],
      "metadata": {
        "id": "PoN60qZcVrXJ"
      },
      "id": "PoN60qZcVrXJ",
      "execution_count": 16,
      "outputs": []
    },
    {
      "cell_type": "markdown",
      "source": [
        "Evalutaing the models:"
      ],
      "metadata": {
        "id": "xXAuDoKJfPdJ"
      },
      "id": "xXAuDoKJfPdJ"
    },
    {
      "cell_type": "code",
      "source": [
        "accuracy_randtree = (predictions_randtree == y_test.numpy()).sum().item() / len(y_test)\n",
        "accuracy_randforest = (predictions_randforest == y_test.numpy()).sum().item() / len(y_test)\n",
        "accuracy_knn = (predictions_knn == y_test.numpy()).sum().item() / len(y_test)\n",
        "\n",
        "print('Accuracy with Neural Networks:', accuracy)\n",
        "print('Accuracy with Decision Tree Classifier:', accuracy_randtree)\n",
        "print('Accuracy with Random Forest:', accuracy_randtree)\n",
        "print('Accuracy with K-Nearest Neighbors:', accuracy_knn)"
      ],
      "metadata": {
        "colab": {
          "base_uri": "https://localhost:8080/"
        },
        "id": "8sz6Y5DqeQWi",
        "outputId": "6f564b2e-edcb-4377-f047-06a0bc3a2cac"
      },
      "id": "8sz6Y5DqeQWi",
      "execution_count": 17,
      "outputs": [
        {
          "output_type": "stream",
          "name": "stdout",
          "text": [
            "Accuracy with Neural Networks: 0.8\n",
            "Accuracy with Decision Tree Classifier: 1.0\n",
            "Accuracy with Random Forest: 1.0\n",
            "Accuracy with K-Nearest Neighbors: 1.0\n"
          ]
        }
      ]
    },
    {
      "cell_type": "markdown",
      "source": [
        "Play with neural network parameters to try to improve its accuracy (for example, you can try to increase the number of epochs)."
      ],
      "metadata": {
        "id": "1TB9Tgkni8IK"
      },
      "id": "1TB9Tgkni8IK"
    },
    {
      "cell_type": "markdown",
      "source": [
        "Exercise: MNIST dataset"
      ],
      "metadata": {
        "id": "5TFe3XnzVsnO"
      },
      "id": "5TFe3XnzVsnO"
    },
    {
      "cell_type": "code",
      "source": [
        "from tensorflow.keras.datasets import mnist\n",
        "\n",
        "(X_train, y_train), (X_test, y_test) = mnist.load_data()"
      ],
      "metadata": {
        "id": "gkRpeZAHVv2G",
        "colab": {
          "base_uri": "https://localhost:8080/"
        },
        "outputId": "ba057699-4b9b-4253-def6-5167040957b3"
      },
      "id": "gkRpeZAHVv2G",
      "execution_count": 18,
      "outputs": [
        {
          "output_type": "stream",
          "name": "stdout",
          "text": [
            "Downloading data from https://storage.googleapis.com/tensorflow/tf-keras-datasets/mnist.npz\n",
            "11490434/11490434 [==============================] - 1s 0us/step\n"
          ]
        }
      ]
    },
    {
      "cell_type": "markdown",
      "source": [
        "Dataset size"
      ],
      "metadata": {
        "id": "wua5dfzxkwst"
      },
      "id": "wua5dfzxkwst"
    },
    {
      "cell_type": "code",
      "source": [
        "X_train.shape"
      ],
      "metadata": {
        "colab": {
          "base_uri": "https://localhost:8080/"
        },
        "id": "v9j7Y8vgk0ts",
        "outputId": "248df92f-7c6d-4c95-94df-e11a4f2d4a9c"
      },
      "id": "v9j7Y8vgk0ts",
      "execution_count": 19,
      "outputs": [
        {
          "output_type": "execute_result",
          "data": {
            "text/plain": [
              "(60000, 28, 28)"
            ]
          },
          "metadata": {},
          "execution_count": 19
        }
      ]
    },
    {
      "cell_type": "markdown",
      "source": [
        "This dataset consists of black and white pictures (28x28 pixels) of handmade digits between 0 and 9"
      ],
      "metadata": {
        "id": "PfEvxQTylCud"
      },
      "id": "PfEvxQTylCud"
    },
    {
      "cell_type": "code",
      "source": [
        "plt.imshow(X_train[0])\n",
        "print('Output label: ', y_train[0])"
      ],
      "metadata": {
        "colab": {
          "base_uri": "https://localhost:8080/",
          "height": 452
        },
        "id": "JhnBUSL9k8wT",
        "outputId": "e87a400d-9a39-46d3-9650-161f2c31f9ec"
      },
      "id": "JhnBUSL9k8wT",
      "execution_count": 20,
      "outputs": [
        {
          "output_type": "stream",
          "name": "stdout",
          "text": [
            "Output label:  5\n"
          ]
        },
        {
          "output_type": "display_data",
          "data": {
            "text/plain": [
              "<Figure size 640x480 with 1 Axes>"
            ],
            "image/png": "[encoded data removed]"
          },
          "metadata": {}
        }
      ]
    },
    {
      "cell_type": "markdown",
      "source": [
        "Try to do it by yourself!\n",
        "\n",
        "This is a well known problem harder than the Iris dataset, as an answer of reference you can use https://keras.io/examples/vision/mnist_convnet/\n",
        "\n",
        "It is highly recommended to use Convolutional Neural Networks (CNN), and do some data pre-processing before training the CNN."
      ],
      "metadata": {
        "id": "cGttzfgRmSDU"
      },
      "id": "cGttzfgRmSDU"
    },
    {
      "cell_type": "code",
      "source": [
        "# solve here the problem"
      ],
      "metadata": {
        "id": "kNFzwkkImedN"
      },
      "id": "kNFzwkkImedN",
      "execution_count": 21,
      "outputs": []
    },
    {
      "cell_type": "markdown",
      "id": "b04c6d92",
      "metadata": {
        "id": "b04c6d92"
      },
      "source": [
        "# Equivariant Graph Neural Network:\n",
        "### Ground state energy prediction"
      ]
    },
    {
      "cell_type": "markdown",
      "id": "4b9cd954",
      "metadata": {
        "id": "4b9cd954"
      },
      "source": [
        "Basic neural network parameters"
      ]
    },
    {
      "cell_type": "code",
      "execution_count": 22,
      "id": "d9facdc6",
      "metadata": {
        "id": "d9facdc6"
      },
      "outputs": [],
      "source": [
        "n_epochs      = 100\n",
        "batch_size    = 128\n",
        "learning_rate = 0.0001\n",
        "dropout       = 0.4"
      ]
    },
    {
      "cell_type": "markdown",
      "id": "851a07ac",
      "metadata": {
        "id": "851a07ac"
      },
      "source": [
        "Load graph database for training. If it was already normalized, that dataset is loaded. Otherwise, we have to nomalized it (very time costly)."
      ]
    },
    {
      "cell_type": "code",
      "execution_count": 23,
      "id": "d725409f",
      "metadata": {
        "id": "d725409f"
      },
      "outputs": [],
      "source": [
        "dataset_name        = 'dataset.pt'\n",
        "dataset_name_std    = 'standardized_dataset.pt'\n",
        "parameters_name_std = 'standardized_parameters.pt'  # Parameters for rescaling the predictions\n",
        "\n",
        "try:\n",
        "    # Load normalized data\n",
        "    dataset    = torch.load(dataset_name_std)\n",
        "    parameters = torch.load(parameters_name_std)\n",
        "\n",
        "    # Assign parameters accordingly\n",
        "    target_mean, feat_mean, edge_mean, target_std, edge_std, feat_std = parameters\n",
        "\n",
        "except FileNotFoundError:\n",
        "    # Load non-normalized data\n",
        "    dataset = torch.load(dataset_name)\n",
        "\n",
        "    # Initialized lists\n",
        "    target_list = torch.tensor([])\n",
        "    edge_list   = torch.tensor([])\n",
        "    feat_mean   = torch.tensor([])\n",
        "    feat_std    = torch.tensor([])\n",
        "\n",
        "    # Stack all graphs\n",
        "    for data in dataset:\n",
        "        target_list = torch.cat((target_list, data.y),         0)\n",
        "        edge_list   = torch.cat((edge_list,   data.edge_attr), 0)\n",
        "\n",
        "    # Compute means and standard deviations\n",
        "    target_mean = torch.mean(target_list)\n",
        "    edge_mean   = torch.mean(edge_list)\n",
        "    target_std  = torch.std(target_list)\n",
        "    edge_std    = torch.std(edge_list)\n",
        "\n",
        "    # Update normalized values into the database\n",
        "    for data in dataset:\n",
        "        data.y         = (data.y         - target_mean) / target_std\n",
        "        data.edge_attr = (data.edge_attr - edge_mean)   / edge_std\n",
        "\n",
        "    # Update normalized values into the database\n",
        "    for feat_index in range(dataset[0].num_node_features):\n",
        "        feat_list = torch.tensor([])\n",
        "\n",
        "        for data in dataset:\n",
        "            feat_list = torch.cat((feat_list, data.x[:, feat_index]), 0)\n",
        "\n",
        "        feat_mean = torch.cat((feat_mean, torch.tensor([torch.mean(feat_list)])), 0)\n",
        "        feat_std  = torch.cat((feat_std,  torch.tensor([torch.std(feat_list)])),  0)\n",
        "\n",
        "        for data in dataset:\n",
        "            data.x[:, feat_index] = (data.x[:, feat_index] - feat_mean[feat_index]) / feat_std[feat_index]\n",
        "\n",
        "    # Define list of parameters\n",
        "    parameters = [target_mean, feat_mean, edge_mean, target_std, edge_std, feat_std]\n",
        "\n",
        "    # Save standarized dataset\n",
        "    torch.save(dataset,    dataset_name_std)\n",
        "    torch.save(parameters, parameters_name_std)"
      ]
    },
    {
      "cell_type": "markdown",
      "id": "53fc7cac",
      "metadata": {
        "id": "53fc7cac"
      },
      "source": [
        "Define train and test sets. If it is aimed to do hyperparameters optimization, a validation must be as well defined."
      ]
    },
    {
      "cell_type": "code",
      "execution_count": 24,
      "id": "a0ac1b20",
      "metadata": {
        "id": "a0ac1b20",
        "outputId": "ac30d51d-2e22-4aca-9601-7e277126fa8e",
        "colab": {
          "base_uri": "https://localhost:8080/"
        }
      },
      "outputs": [
        {
          "output_type": "stream",
          "name": "stdout",
          "text": [
            "Number of training graphs: 1800\n",
            "Number of testing  graphs: 200\n"
          ]
        }
      ],
      "source": [
        "# Define the sizes of the train and test sets\n",
        "train_size = int(0.9 * len(dataset))\n",
        "test_size  = len(dataset) - train_size\n",
        "\n",
        "# Use random_split() to generate train and test sets\n",
        "train_dataset, test_dataset = random_split(dataset, [train_size, test_size])\n",
        "\n",
        "print(f'Number of training graphs: {len(train_dataset)}')\n",
        "print(f'Number of testing  graphs: {len(test_dataset)}')\n",
        "\n",
        "train_loader = DataLoader(train_dataset, batch_size=batch_size,        shuffle=True)\n",
        "test_loader  = DataLoader(test_dataset,  batch_size=len(test_dataset), shuffle=True)"
      ]
    },
    {
      "cell_type": "markdown",
      "id": "4ebbd5c2",
      "metadata": {
        "id": "4ebbd5c2"
      },
      "source": [
        "Define the neural network architecture"
      ]
    },
    {
      "cell_type": "code",
      "execution_count": 25,
      "id": "8b2e5371",
      "metadata": {
        "id": "8b2e5371"
      },
      "outputs": [],
      "source": [
        "class GCNN(torch.nn.Module):\n",
        "    \"\"\"Graph Convolution Neural Network, with RELU activation function.\n",
        "    \"\"\"\n",
        "\n",
        "    def __init__(self, features_channels, pdropout=0.4):\n",
        "        super(GCNN, self).__init__()\n",
        "\n",
        "        # Define graph convolution layers\n",
        "        self.conv1   = GraphConv(features_channels, 256)\n",
        "        self.conv2   = GraphConv(256, 256)\n",
        "\n",
        "        # Define linear layers\n",
        "        self.linconv = Linear(256, 16)\n",
        "        self.lin     = Linear(16, 1)\n",
        "\n",
        "        self.pdropout = pdropout\n",
        "\n",
        "    def forward(self, x, edge_index, edge_attr, batch):\n",
        "        ## CONVOLUTION\n",
        "\n",
        "        # Apply graph convolution with ReLU activation function\n",
        "        x = self.conv1(x, edge_index, edge_attr)\n",
        "        x = x.relu()\n",
        "        x = self.conv2(x, edge_index, edge_attr)\n",
        "        x = x.relu()\n",
        "\n",
        "        ## POOLING\n",
        "\n",
        "        # Apply global mean pooling to reduce dimensionality\n",
        "        x = global_mean_pool(x, batch)  # [batch_size, hidden_channels]\n",
        "\n",
        "        # Apply dropout regularization\n",
        "\n",
        "        x = F.dropout(x, p=self.pdropout, training=self.training)\n",
        "\n",
        "        # Apply linear convolution with ReLU activation function\n",
        "        x = self.linconv(x)\n",
        "        x = x.relu()\n",
        "\n",
        "        ## REGRESSION\n",
        "\n",
        "        # Apply final linear layer to make prediction\n",
        "        x = self.lin(x)\n",
        "        return x"
      ]
    },
    {
      "cell_type": "markdown",
      "id": "28efde25",
      "metadata": {
        "id": "28efde25"
      },
      "source": [
        "Create an instance of the neural network\n",
        "\n",
        "*num_node_features*: extracts from one graph the number features defined for each atom."
      ]
    },
    {
      "cell_type": "code",
      "execution_count": 26,
      "id": "946824c4",
      "metadata": {
        "id": "946824c4",
        "outputId": "c03cdd03-b976-4150-c879-7742344e2936",
        "colab": {
          "base_uri": "https://localhost:8080/"
        }
      },
      "outputs": [
        {
          "output_type": "stream",
          "name": "stdout",
          "text": [
            "GCNN(\n",
            "  (conv1): GraphConv(4, 256)\n",
            "  (conv2): GraphConv(256, 256)\n",
            "  (linconv): Linear(in_features=256, out_features=16, bias=True)\n",
            "  (lin): Linear(in_features=16, out_features=1, bias=True)\n",
            ")\n"
          ]
        }
      ],
      "source": [
        "model = GCNN(features_channels=dataset[0].num_node_features,\n",
        "             pdropout=dropout)\n",
        "print(model)"
      ]
    },
    {
      "cell_type": "markdown",
      "id": "a5997ce0",
      "metadata": {
        "id": "a5997ce0"
      },
      "source": [
        "Define training loop."
      ]
    },
    {
      "cell_type": "code",
      "execution_count": 27,
      "id": "13a0e79d",
      "metadata": {
        "id": "13a0e79d",
        "outputId": "9accecb9-8d2c-4719-c88d-fe31b01dd292",
        "colab": {
          "base_uri": "https://localhost:8080/"
        }
      },
      "outputs": [
        {
          "output_type": "stream",
          "name": "stdout",
          "text": [
            "Epoch: 10/100, Train loss: 0.6776074250539144, Test loss: 0.5876287221908569\n",
            "Epoch: 20/100, Train loss: 0.5006256510814031, Test loss: 0.47377559542655945\n",
            "Epoch: 30/100, Train loss: 0.42726600070794424, Test loss: 0.4262126088142395\n",
            "Epoch: 40/100, Train loss: 0.4050967931747437, Test loss: 0.4165768027305603\n",
            "Epoch: 50/100, Train loss: 0.3705691576004028, Test loss: 0.39917877316474915\n",
            "Epoch: 60/100, Train loss: 0.3551477154095968, Test loss: 0.3858276605606079\n",
            "Epoch: 70/100, Train loss: 0.34620089332262677, Test loss: 0.376042902469635\n",
            "Epoch: 80/100, Train loss: 0.32217873136202496, Test loss: 0.36386317014694214\n",
            "Epoch: 90/100, Train loss: 0.3158370167016983, Test loss: 0.3738500475883484\n",
            "Epoch: 100/100, Train loss: 0.3127930780251821, Test loss: 0.3552359342575073\n"
          ]
        }
      ],
      "source": [
        "# MSELoss is by default defined as the mean within the batch\n",
        "# Thus, every batch contributes the same to the loss regardless of their shape (might be somenthing to change)\n",
        "\n",
        "optimizer = torch.optim.Adam(model.parameters(), lr=learning_rate)\n",
        "criterion = torch.nn.MSELoss()\n",
        "\n",
        "# Initialize all lists for extracting training results and train the model\n",
        "\n",
        "train_losses = []\n",
        "test_losses  = []\n",
        "for epoch in range(n_epochs):\n",
        "    train_loss, train_predictions, train_ground_truths = ML.train(model, criterion, train_loader, optimizer)\n",
        "    test_loss,  test_predictions,  test_ground_truths  =  ML.test(model, criterion, test_loader)\n",
        "\n",
        "    # Append losses\n",
        "    train_losses.append(train_loss)\n",
        "    test_losses.append(test_loss)\n",
        "\n",
        "    # Show results for some cases\n",
        "    if (epoch+1) % 10 == 0:\n",
        "        print(f\"Epoch: {epoch+1}/{n_epochs}, Train loss: {train_loss}, Test loss: {test_loss}\")"
      ]
    },
    {
      "cell_type": "markdown",
      "id": "dafdd461",
      "metadata": {
        "id": "dafdd461"
      },
      "source": [
        "Plot the last prediction"
      ]
    },
    {
      "cell_type": "code",
      "execution_count": 28,
      "id": "ac993874",
      "metadata": {
        "id": "ac993874",
        "colab": {
          "base_uri": "https://localhost:8080/",
          "height": 473
        },
        "outputId": "99cf6446-4ef9-46a2-ae9f-784ce73cc7c3"
      },
      "outputs": [
        {
          "output_type": "display_data",
          "data": {
            "text/plain": [
              "<Figure size 500x500 with 1 Axes>"
            ],
            "image/png": "[encoded data removed]"
          },
          "metadata": {}
        }
      ],
      "source": [
        "# Stack train-test predictions and ground truths\n",
        "stack = np.concatenate([train_predictions, train_ground_truths,\n",
        "                        test_predictions,  test_ground_truths])\n",
        "\n",
        "_min_ = np.min(stack)\n",
        "_max_ = np.max(stack)\n",
        "\n",
        "plt.figure(figsize=(5, 5))\n",
        "plt.plot(train_predictions, train_ground_truths, '.', label='Train set')\n",
        "plt.plot(test_predictions,  test_ground_truths,  'o', label='Test  set')\n",
        "plt.xlabel(f'Predicted')\n",
        "plt.ylabel(f'Computed')\n",
        "plt.plot([_min_, _max_], [_min_, _max_], '-r')\n",
        "plt.show()"
      ]
    },
    {
      "cell_type": "markdown",
      "id": "a55c446a",
      "metadata": {
        "id": "a55c446a"
      },
      "source": [
        "Plot loss function over each training step"
      ]
    },
    {
      "cell_type": "code",
      "execution_count": 29,
      "id": "884b5695",
      "metadata": {
        "id": "884b5695",
        "outputId": "c02bf834-dec3-41ee-b664-d7ee19254c18",
        "colab": {
          "base_uri": "https://localhost:8080/",
          "height": 458
        }
      },
      "outputs": [
        {
          "output_type": "display_data",
          "data": {
            "text/plain": [
              "<Figure size 640x480 with 1 Axes>"
            ],
            "image/png": "[encoded data removed]"
          },
          "metadata": {}
        }
      ],
      "source": [
        "plt.plot(np.log10(train_losses), label='Train loss')\n",
        "plt.plot(np.log10(test_losses) , label='Test  loss')\n",
        "plt.xlabel('Epoch')\n",
        "plt.ylabel('Loss')\n",
        "plt.legend(loc='best')\n",
        "plt.show()"
      ]
    },
    {
      "cell_type": "code",
      "source": [],
      "metadata": {
        "id": "jWvQgOzVPBJi"
      },
      "id": "jWvQgOzVPBJi",
      "execution_count": null,
      "outputs": []
    }
  ],
  "metadata": {
    "kernelspec": {
      "display_name": "Python 3 (ipykernel)",
      "language": "python",
      "name": "python3"
    },
    "language_info": {
      "codemirror_mode": {
        "name": "ipython",
        "version": 3
      },
      "file_extension": ".py",
      "mimetype": "text/x-python",
      "name": "python",
      "nbconvert_exporter": "python",
      "pygments_lexer": "ipython3",
      "version": "3.11.1"
    },
    "colab": {
      "provenance": []
    }
  },
  "nbformat": 4,
  "nbformat_minor": 5
}